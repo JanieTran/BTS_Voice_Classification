{
 "cells": [
  {
   "cell_type": "code",
   "execution_count": 1,
   "metadata": {},
   "outputs": [],
   "source": [
    "%load_ext autoreload\n",
    "%autoreload 2"
   ]
  },
  {
   "cell_type": "code",
   "execution_count": 2,
   "metadata": {},
   "outputs": [],
   "source": [
    "from config import *\n",
    "from features import *\n",
    "import matplotlib.pyplot as plt\n",
    "import librosa\n",
    "import librosa.display\n",
    "import gc\n",
    "import os\n",
    "os.environ['TF_FORCE_GPU_ALLOW_GROWTH'] = 'true'"
   ]
  },
  {
   "cell_type": "code",
   "execution_count": 46,
   "metadata": {},
   "outputs": [],
   "source": [
    "TEST_SIZE = 0.4\n",
    "RANDOM_SEED = 191\n",
    "\n",
    "SAMPLE_RATE = 44100 / 3\n",
    "\n",
    "N_FFT = 2048\n",
    "HOP_LENGTH = 512\n",
    "N_MEL_BINS = 128\n",
    "N_MFCC = 24\n",
    "\n",
    "WINDOW = 'blackmanharris'\n",
    "\n",
    "LEARNING_RATE = 1e-3\n",
    "BATCH_SIZE = 16"
   ]
  },
  {
   "cell_type": "code",
   "execution_count": 4,
   "metadata": {},
   "outputs": [
    {
     "name": "stdout",
     "output_type": "stream",
     "text": [
      "Train: 35 songs\n",
      "Val: 5 songs\n",
      "Test: 5 songs\n"
     ]
    }
   ],
   "source": [
    "from prepare_data import sample_train_test_songs, form_audio_data_array\n",
    "\n",
    "train_songs, val_songs, test_songs = sample_train_test_songs(test_size=TEST_SIZE, random_seed=RANDOM_SEED, include_val=True)\n",
    "print(f'Train: {len(train_songs)} songs')\n",
    "print(f'Val: {len(val_songs)} songs')\n",
    "print(f'Test: {len(test_songs)} songs')"
   ]
  },
  {
   "cell_type": "code",
   "execution_count": 47,
   "metadata": {},
   "outputs": [
    {
     "name": "stdout",
     "output_type": "stream",
     "text": [
      "(971, 24, 290, 1) (971, 1)\n",
      "(126, 24, 290, 1) (126, 1)\n"
     ]
    }
   ],
   "source": [
    "# X_train, Y_train = form_audio_data_array(song_names=train_songs, sample_rate=SAMPLE_RATE, window=WINDOW, n_fft=N_FFT,\n",
    "#                                          hop_length=HOP_LENGTH, n_mel=N_MEL_BINS, n_mfcc=N_MFCC, add_axis=True)\n",
    "# X_val, Y_val = form_audio_data_array(song_names=val_songs, sample_rate=SAMPLE_RATE, window=WINDOW, n_fft=N_FFT,\n",
    "#                                      hop_length=HOP_LENGTH, n_mel=N_MEL_BINS, n_mfcc=N_MFCC, add_axis=True)\n",
    "\n",
    "with open(f'tmp/X_train_{RANDOM_SEED}_{N_MFCC}.npy', 'rb') as f:\n",
    "    X_train = np.load(f)\n",
    "    X_train = X_train[..., np.newaxis]\n",
    "with open(f'tmp/Y_train_{RANDOM_SEED}_{N_MFCC}.npy', 'rb') as f:\n",
    "    Y_train = np.load(f)\n",
    "    Y_train = Y_train[..., np.newaxis]\n",
    "with open(f'tmp/X_val_{RANDOM_SEED}_{N_MFCC}.npy', 'rb') as f:\n",
    "    X_val = np.load(f)\n",
    "    X_val = X_val[..., np.newaxis]\n",
    "with open(f'tmp/Y_val_{RANDOM_SEED}_{N_MFCC}.npy', 'rb') as f:\n",
    "    Y_val = np.load(f)\n",
    "    Y_val = Y_val[..., np.newaxis]\n",
    "\n",
    "print(X_train.shape, Y_train.shape)\n",
    "print(X_val.shape, Y_val.shape)"
   ]
  },
  {
   "cell_type": "code",
   "execution_count": 6,
   "metadata": {},
   "outputs": [],
   "source": [
    "import tensorflow as tf\n",
    "from tensorflow.keras.layers import Conv2D, MaxPool2D, Flatten, Dense, BatchNormalization, Dropout\n",
    "from tensorflow.keras.regularizers import l2 as L2\n",
    "from tensorflow.keras.optimizers import Adam\n",
    "from tensorflow.keras.callbacks import EarlyStopping"
   ]
  },
  {
   "cell_type": "code",
   "execution_count": 49,
   "metadata": {},
   "outputs": [
    {
     "data": {
      "text/plain": [
       "22"
      ]
     },
     "execution_count": 49,
     "metadata": {},
     "output_type": "execute_result"
    }
   ],
   "source": [
    "gc.collect()"
   ]
  },
  {
   "cell_type": "code",
   "execution_count": 50,
   "metadata": {},
   "outputs": [],
   "source": [
    "model = tf.keras.Sequential([\n",
    "    Conv2D(filters=128, kernel_size=(3, 3), padding='same', activation='relu', input_shape=X_train.shape[1:]),\n",
    "    MaxPool2D(pool_size=(2, 2), strides=(2, 2), padding='same'),\n",
    "    BatchNormalization(),\n",
    "    Conv2D(filters=64, kernel_size=(3, 3), padding='same', activation='relu'),\n",
    "    MaxPool2D(pool_size=(2, 2), strides=(2, 2), padding='same'),\n",
    "    BatchNormalization(),\n",
    "    Dropout(rate=0.3),\n",
    "    Conv2D(filters=32, kernel_size=(3, 3), padding='same', activation='relu'),\n",
    "    MaxPool2D(pool_size=(2, 2), strides=(2, 2), padding='same'),\n",
    "    BatchNormalization(),\n",
    "    Flatten(),\n",
    "    Dense(units=7, activation='softmax')\n",
    "])\n",
    "\n",
    "optimiser = Adam(learning_rate=LEARNING_RATE)\n",
    "model.compile(optimizer=optimiser, loss='sparse_categorical_crossentropy', metrics=['accuracy'])"
   ]
  },
  {
   "cell_type": "code",
   "execution_count": 51,
   "metadata": {},
   "outputs": [
    {
     "name": "stdout",
     "output_type": "stream",
     "text": [
      "Train on 971 samples, validate on 126 samples\n",
      "Epoch 1/100\n",
      "971/971 [==============================] - 3s 3ms/sample - loss: 2.3685 - accuracy: 0.2389 - val_loss: 4.7771 - val_accuracy: 0.1270\n",
      "Epoch 2/100\n",
      "971/971 [==============================] - 2s 2ms/sample - loss: 1.7199 - accuracy: 0.3821 - val_loss: 2.7031 - val_accuracy: 0.2540\n",
      "Epoch 3/100\n",
      "971/971 [==============================] - 3s 3ms/sample - loss: 1.3569 - accuracy: 0.4892 - val_loss: 2.7285 - val_accuracy: 0.2302\n",
      "Epoch 4/100\n",
      "971/971 [==============================] - 3s 3ms/sample - loss: 1.1684 - accuracy: 0.5602 - val_loss: 2.4221 - val_accuracy: 0.2302\n",
      "Epoch 5/100\n",
      "971/971 [==============================] - 3s 3ms/sample - loss: 0.8138 - accuracy: 0.6735 - val_loss: 2.7414 - val_accuracy: 0.2222\n",
      "Epoch 6/100\n",
      "971/971 [==============================] - 3s 3ms/sample - loss: 0.6588 - accuracy: 0.7580 - val_loss: 2.2265 - val_accuracy: 0.3333\n",
      "Epoch 7/100\n",
      "971/971 [==============================] - 3s 3ms/sample - loss: 0.4697 - accuracy: 0.8404 - val_loss: 2.7181 - val_accuracy: 0.2857\n",
      "Epoch 8/100\n",
      "971/971 [==============================] - 3s 3ms/sample - loss: 0.3449 - accuracy: 0.8908 - val_loss: 2.3089 - val_accuracy: 0.3651\n",
      "Epoch 9/100\n",
      "971/971 [==============================] - 3s 3ms/sample - loss: 0.2423 - accuracy: 0.9331 - val_loss: 2.2948 - val_accuracy: 0.3095\n",
      "Epoch 10/100\n",
      "971/971 [==============================] - 3s 3ms/sample - loss: 0.1613 - accuracy: 0.9640 - val_loss: 2.1975 - val_accuracy: 0.3730\n",
      "Epoch 11/100\n",
      "971/971 [==============================] - 3s 3ms/sample - loss: 0.1396 - accuracy: 0.9712 - val_loss: 2.3863 - val_accuracy: 0.3571\n",
      "Epoch 12/100\n",
      "971/971 [==============================] - 3s 3ms/sample - loss: 0.0821 - accuracy: 0.9897 - val_loss: 2.4701 - val_accuracy: 0.3492\n",
      "Epoch 13/100\n",
      "971/971 [==============================] - 3s 3ms/sample - loss: 0.0682 - accuracy: 0.9949 - val_loss: 2.4356 - val_accuracy: 0.3492\n",
      "Epoch 14/100\n",
      "971/971 [==============================] - 3s 3ms/sample - loss: 0.0628 - accuracy: 0.9918 - val_loss: 2.8000 - val_accuracy: 0.3254\n",
      "Epoch 15/100\n",
      "971/971 [==============================] - 3s 3ms/sample - loss: 0.0496 - accuracy: 0.9949 - val_loss: 2.7259 - val_accuracy: 0.3492\n",
      "Epoch 16/100\n",
      "971/971 [==============================] - 3s 3ms/sample - loss: 0.0477 - accuracy: 0.9949 - val_loss: 2.5522 - val_accuracy: 0.3810\n",
      "Epoch 17/100\n",
      "971/971 [==============================] - 3s 3ms/sample - loss: 0.0496 - accuracy: 0.9928 - val_loss: 2.6893 - val_accuracy: 0.3413\n",
      "Epoch 18/100\n",
      "971/971 [==============================] - 3s 3ms/sample - loss: 0.0268 - accuracy: 0.9979 - val_loss: 2.6725 - val_accuracy: 0.3571\n",
      "Epoch 19/100\n",
      "971/971 [==============================] - 3s 3ms/sample - loss: 0.0302 - accuracy: 0.9969 - val_loss: 2.6435 - val_accuracy: 0.3492\n",
      "Epoch 20/100\n",
      "971/971 [==============================] - 3s 3ms/sample - loss: 0.0231 - accuracy: 1.0000 - val_loss: 2.8604 - val_accuracy: 0.3810\n",
      "Epoch 21/100\n",
      "971/971 [==============================] - 3s 3ms/sample - loss: 0.0194 - accuracy: 1.0000 - val_loss: 2.6330 - val_accuracy: 0.3810\n",
      "Epoch 22/100\n",
      "971/971 [==============================] - 3s 3ms/sample - loss: 0.0260 - accuracy: 0.9969 - val_loss: 3.0079 - val_accuracy: 0.3492\n",
      "Epoch 23/100\n",
      "971/971 [==============================] - 3s 3ms/sample - loss: 0.0176 - accuracy: 0.9990 - val_loss: 2.9297 - val_accuracy: 0.3413\n",
      "Epoch 24/100\n",
      "971/971 [==============================] - 3s 3ms/sample - loss: 0.0196 - accuracy: 1.0000 - val_loss: 3.2314 - val_accuracy: 0.3413\n",
      "Epoch 25/100\n",
      "971/971 [==============================] - 3s 3ms/sample - loss: 0.0154 - accuracy: 1.0000 - val_loss: 2.9861 - val_accuracy: 0.3651\n",
      "Epoch 26/100\n",
      "971/971 [==============================] - 3s 3ms/sample - loss: 0.0113 - accuracy: 1.0000 - val_loss: 2.6529 - val_accuracy: 0.3651\n",
      "Epoch 27/100\n",
      "971/971 [==============================] - 3s 3ms/sample - loss: 0.0095 - accuracy: 1.0000 - val_loss: 2.8828 - val_accuracy: 0.3889\n",
      "Epoch 28/100\n",
      "971/971 [==============================] - 3s 3ms/sample - loss: 0.0095 - accuracy: 1.0000 - val_loss: 2.8220 - val_accuracy: 0.3810\n",
      "Epoch 29/100\n",
      "971/971 [==============================] - 3s 3ms/sample - loss: 0.0108 - accuracy: 1.0000 - val_loss: 2.9312 - val_accuracy: 0.3651\n",
      "Epoch 30/100\n",
      "971/971 [==============================] - 3s 3ms/sample - loss: 0.0083 - accuracy: 1.0000 - val_loss: 3.0966 - val_accuracy: 0.3571\n",
      "Epoch 31/100\n",
      "971/971 [==============================] - 3s 3ms/sample - loss: 0.0064 - accuracy: 1.0000 - val_loss: 2.9884 - val_accuracy: 0.3413\n",
      "Epoch 32/100\n",
      "971/971 [==============================] - 3s 3ms/sample - loss: 0.0051 - accuracy: 1.0000 - val_loss: 2.9841 - val_accuracy: 0.3571\n",
      "Epoch 33/100\n",
      "971/971 [==============================] - 3s 3ms/sample - loss: 0.0053 - accuracy: 1.0000 - val_loss: 2.9476 - val_accuracy: 0.3889\n",
      "Epoch 34/100\n",
      "971/971 [==============================] - 3s 3ms/sample - loss: 0.0065 - accuracy: 1.0000 - val_loss: 2.9365 - val_accuracy: 0.3651\n",
      "Epoch 35/100\n",
      "971/971 [==============================] - 3s 3ms/sample - loss: 0.0067 - accuracy: 1.0000 - val_loss: 3.2224 - val_accuracy: 0.3571\n",
      "Epoch 36/100\n",
      "971/971 [==============================] - 3s 3ms/sample - loss: 0.0075 - accuracy: 1.0000 - val_loss: 3.2048 - val_accuracy: 0.3254\n",
      "Epoch 37/100\n",
      "971/971 [==============================] - 3s 3ms/sample - loss: 0.0053 - accuracy: 1.0000 - val_loss: 3.0304 - val_accuracy: 0.3571\n",
      "Epoch 38/100\n",
      "971/971 [==============================] - 3s 3ms/sample - loss: 0.0055 - accuracy: 1.0000 - val_loss: 3.2119 - val_accuracy: 0.3730\n",
      "Epoch 39/100\n",
      "971/971 [==============================] - 3s 3ms/sample - loss: 0.0041 - accuracy: 1.0000 - val_loss: 3.0004 - val_accuracy: 0.3492\n",
      "Epoch 40/100\n",
      "971/971 [==============================] - 3s 3ms/sample - loss: 0.0050 - accuracy: 1.0000 - val_loss: 3.1213 - val_accuracy: 0.3333\n",
      "Epoch 41/100\n",
      "971/971 [==============================] - 3s 3ms/sample - loss: 0.0033 - accuracy: 1.0000 - val_loss: 3.1845 - val_accuracy: 0.3810\n",
      "Epoch 42/100\n",
      "971/971 [==============================] - 3s 3ms/sample - loss: 0.0033 - accuracy: 1.0000 - val_loss: 3.2977 - val_accuracy: 0.3254\n"
     ]
    }
   ],
   "source": [
    "early_stopping = EarlyStopping(monitor='val_accuracy', mode='max', patience=15, restore_best_weights=True)\n",
    "history = model.fit(X_train, Y_train, validation_data=(X_val, Y_val),\n",
    "                    batch_size=BATCH_SIZE, epochs=100, callbacks=[early_stopping])"
   ]
  },
  {
   "cell_type": "code",
   "execution_count": 52,
   "metadata": {},
   "outputs": [
    {
     "data": {
      "text/plain": [
       "<matplotlib.legend.Legend at 0x2b853e4b788>"
      ]
     },
     "execution_count": 52,
     "metadata": {},
     "output_type": "execute_result"
    },
    {
     "data": {
      "image/png": "[encoded data removed]",
      "text/plain": [
       "<Figure size 1440x504 with 2 Axes>"
      ]
     },
     "metadata": {
      "needs_background": "light"
     },
     "output_type": "display_data"
    }
   ],
   "source": [
    "fig, ax = plt.subplots(1, 2, figsize=(20, 7))\n",
    "\n",
    "ax[0].plot(history.history['loss'], label='Train loss')\n",
    "ax[0].plot(history.history['val_loss'], label='Val loss')\n",
    "ax[1].plot(history.history['accuracy'], label='Train accuracy')\n",
    "ax[1].plot(history.history['val_accuracy'], label='Val accuracy')\n",
    "\n",
    "ax[0].set_title('Loss')\n",
    "ax[1].set_title('Accuracy')\n",
    "\n",
    "ax[0].legend()\n",
    "ax[1].legend()"
   ]
  },
  {
   "cell_type": "code",
   "execution_count": 53,
   "metadata": {},
   "outputs": [
    {
     "name": "stdout",
     "output_type": "stream",
     "text": [
      "126/126 [==============================] - 0s 907us/sample - loss: 2.8828 - accuracy: 0.3889\n"
     ]
    },
    {
     "data": {
      "text/plain": [
       "[2.8827850402347623, 0.3888889]"
      ]
     },
     "execution_count": 53,
     "metadata": {},
     "output_type": "execute_result"
    }
   ],
   "source": [
    "model.evaluate(X_val, Y_val)"
   ]
  },
  {
   "cell_type": "code",
   "execution_count": null,
   "metadata": {},
   "outputs": [],
   "source": []
  }
 ],
 "metadata": {
  "kernelspec": {
   "display_name": "Python 3",
   "language": "python",
   "name": "python3"
  },
  "language_info": {
   "codemirror_mode": {
    "name": "ipython",
    "version": 3
   },
   "file_extension": ".py",
   "mimetype": "text/x-python",
   "name": "python",
   "nbconvert_exporter": "python",
   "pygments_lexer": "ipython3",
   "version": "3.7.7"
  }
 },
 "nbformat": 4,
 "nbformat_minor": 4
}
