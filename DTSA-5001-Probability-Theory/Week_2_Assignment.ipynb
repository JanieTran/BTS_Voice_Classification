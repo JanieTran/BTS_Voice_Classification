{
  "nbformat": 4,
  "nbformat_minor": 0,
  "metadata": {
    "colab": {
      "provenance": [],
      "authorship_tag": "ABX9TyPEpqCsCPeNWROqS+ElrzWA"
    },
    "kernelspec": {
      "name": "ir",
      "display_name": "R"
    },
    "language_info": {
      "name": "R"
    }
  },
  "cells": [
    {
      "cell_type": "markdown",
      "source": [
        "# Module 2 Assessment\n",
        "\n",
        "In this notebook you will use the rules of conditional probability to solve various problems."
      ],
      "metadata": {
        "id": "NixILwJ4dTrv"
      }
    },
    {
      "cell_type": "markdown",
      "source": [
        "## Problem 1\n",
        "\n",
        "The CU Boulder triathlon team has 12 women and 9 men. The team is\n",
        "going to a race and can only enter 5 participants. What is the probability of\n",
        "randomly selecting a race squad of 5 participants with exactly 3 women? Round your answer to three decimal places. Enter your solution into variable `p1.1`.\n",
        "\n",
        "$⇒ \\color{green}{\\frac{12C3 \\times 9C2}{21C5}}$"
      ],
      "metadata": {
        "id": "c2Jj8NGkdZtw"
      }
    },
    {
      "cell_type": "code",
      "execution_count": 2,
      "metadata": {
        "colab": {
          "base_uri": "https://localhost:8080/",
          "height": 34
        },
        "id": "vYycoDKvc85g",
        "outputId": "64f9a590-c0c6-4f0e-d8b6-530ddb5a587e"
      },
      "outputs": [
        {
          "output_type": "display_data",
          "data": {
            "text/html": [
              "0.389"
            ],
            "text/markdown": "0.389",
            "text/latex": "0.389",
            "text/plain": [
              "[1] 0.389"
            ]
          },
          "metadata": {}
        }
      ],
      "source": [
        "women = 12\n",
        "men = 9\n",
        "n = women + men\n",
        "choose_3_women = choose(women, 3)\n",
        "choose_2_men = choose(men, 2)\n",
        "choose_any_5 = choose(n, 5)\n",
        "p1.1 = choose_3_women * choose_2_men / choose_any_5\n",
        "p1.1 = round(p1.1, 3)\n",
        "p1.1"
      ]
    },
    {
      "cell_type": "markdown",
      "source": [
        "## Problem 2\n",
        "\n",
        "Suppose a particular crime is committed in Jerry's apartment. We'd like to know\n",
        "whether Newman is guilty of the crime. We are torn as to whether we think he is\n",
        "guilty: we think it's equally likely that he is guilty or not guilty. Suppose that, in similar situations, we know that if a suspect is guilty, $85\\%$ of the time their finger prints are found at the scene, and, we know that if a suspect is not guilty, $30\\%$ of the time their finger prints are found at the scene.\n",
        "\n",
        "* $P(\\text{guilty}) = 0.5$\n",
        "* $P(\\text{fingerprint}|\\text{guilty}) = 0.85$\n",
        "* $P(\\text{fingerprint}|\\text{not guilty}) = 0.3$"
      ],
      "metadata": {
        "id": "BNVUI2X2eZq1"
      }
    },
    {
      "cell_type": "code",
      "source": [
        "p_guilty = 0.5\n",
        "p_not_guilty = 1 - p_guilty\n",
        "p_fingerprint_g_guilty = 0.85\n",
        "p_not_fingerprint_g_guilty = 1 - p_fingerprint_g_guilty\n",
        "p_fingerprint_g_not_guilty = 0.3\n",
        "p_not_fingerprint_not_guilty = 1 - p_fingerprint_g_not_guilty"
      ],
      "metadata": {
        "id": "40SbEN0ReUoR"
      },
      "execution_count": 3,
      "outputs": []
    },
    {
      "cell_type": "markdown",
      "source": [
        "**a)** What is the probability that Newman's finger prints are found at the scene? Round your answer to three decimal places. Enter your solution into variable `p2.1`."
      ],
      "metadata": {
        "id": "Oi2NrxMnfff6"
      }
    },
    {
      "cell_type": "code",
      "source": [
        "p2.1 = p_fingerprint_g_guilty * p_guilty + p_fingerprint_g_not_guilty * p_not_guilty\n",
        "p2.1 = round(p2.1, digits=3)\n",
        "p2.1"
      ],
      "metadata": {
        "colab": {
          "base_uri": "https://localhost:8080/",
          "height": 34
        },
        "id": "n0u5DZDDfevS",
        "outputId": "c7c5773d-292f-4086-ed25-98646321427a"
      },
      "execution_count": 5,
      "outputs": [
        {
          "output_type": "display_data",
          "data": {
            "text/html": [
              "0.575"
            ],
            "text/markdown": "0.575",
            "text/latex": "0.575",
            "text/plain": [
              "[1] 0.575"
            ]
          },
          "metadata": {}
        }
      ]
    },
    {
      "cell_type": "markdown",
      "source": [
        "**b)** If Newman's finger prints are found at the scene, how likely is it that he is\n",
        "guilty? Round your answer to three decimal places. Enter your solution into variable `p2.2`."
      ],
      "metadata": {
        "id": "hseT4PCMfzSL"
      }
    },
    {
      "cell_type": "code",
      "source": [
        "p2.2 = p_fingerprint_g_guilty * p_guilty / p2.1\n",
        "p2.2 = round(p2.2, digits=3)\n",
        "p2.2"
      ],
      "metadata": {
        "colab": {
          "base_uri": "https://localhost:8080/",
          "height": 34
        },
        "id": "GvFyQ8l9fsc-",
        "outputId": "6bdcbbd3-2e1b-4691-cc62-34030d05615e"
      },
      "execution_count": 6,
      "outputs": [
        {
          "output_type": "display_data",
          "data": {
            "text/html": [
              "0.739"
            ],
            "text/markdown": "0.739",
            "text/latex": "0.739",
            "text/plain": [
              "[1] 0.739"
            ]
          },
          "metadata": {}
        }
      ]
    },
    {
      "cell_type": "markdown",
      "source": [
        "**c)** If Newman's finger prints are not found at the scene, how likely is it that he is guilty? Round your answer to three decimal places. Enter your answer into variable `p2.3`."
      ],
      "metadata": {
        "id": "d_-G8DFogDiH"
      }
    },
    {
      "cell_type": "code",
      "source": [
        "p_not_fingerprint = p_not_fingerprint_g_guilty * p_guilty + p_not_fingerprint_not_guilty * p_not_guilty\n",
        "p2.3 = p_not_fingerprint_g_guilty * p_guilty / p_not_fingerprint\n",
        "p2.3 = round(p2.3, digits=3)\n",
        "p2.3"
      ],
      "metadata": {
        "colab": {
          "base_uri": "https://localhost:8080/",
          "height": 34
        },
        "id": "YNQ1_qQwgBnv",
        "outputId": "5adb9744-6589-4548-b85b-e3f74c5a6893"
      },
      "execution_count": 7,
      "outputs": [
        {
          "output_type": "display_data",
          "data": {
            "text/html": [
              "0.176"
            ],
            "text/markdown": "0.176",
            "text/latex": "0.176",
            "text/plain": [
              "[1] 0.176"
            ]
          },
          "metadata": {}
        }
      ]
    },
    {
      "cell_type": "markdown",
      "source": [
        "## Problem 3\n",
        "\n",
        "The game of Yahtzee is played with five fair dice. The goal is to roll certain\n",
        "'hands', such as Yahtzee (all five dice showing the same number) or a full house\n",
        "(three of a kind and two of a kind). In the first round of a player's turn, the player rolls all five dice. Based on the outcome of that roll, the player has a second and third round, where he/she can then choose to re-roll any subset of the dice to get a desired hand."
      ],
      "metadata": {
        "id": "8qoAGOqrgWTC"
      }
    },
    {
      "cell_type": "code",
      "source": [
        "dices = 5\n",
        "choices = 6\n",
        "cardinality = choices^dices"
      ],
      "metadata": {
        "id": "m_Ho5-XTgVAG"
      },
      "execution_count": 8,
      "outputs": []
    },
    {
      "cell_type": "markdown",
      "source": [
        "**a)** What is the probability of rolling a Yahtzee (all 5 dice showing the same number) on the first round? Round your answer to 4 decimal places. Enter your answer into variable `p3.1`."
      ],
      "metadata": {
        "id": "ibInUNRzgvJ0"
      }
    },
    {
      "cell_type": "code",
      "source": [
        "choose_same_number = choose(choices, 1)\n",
        "p3.1 = choose_same_number / cardinality\n",
        "p3.1 = round(p3.1, digits=4)\n",
        "p3.1"
      ],
      "metadata": {
        "colab": {
          "base_uri": "https://localhost:8080/",
          "height": 34
        },
        "id": "LoOsPEzCgub9",
        "outputId": "1bc12f48-5b89-403b-b4ee-d8445556d555"
      },
      "execution_count": 9,
      "outputs": [
        {
          "output_type": "display_data",
          "data": {
            "text/html": [
              "8e-04"
            ],
            "text/markdown": "8e-04",
            "text/latex": "8e-04",
            "text/plain": [
              "[1] 8e-04"
            ]
          },
          "metadata": {}
        }
      ]
    },
    {
      "cell_type": "markdown",
      "source": [
        "**b)** Suppose that, on the second round, the dice are $\\{2, 3, 4, 6, 6\\}$. You decide to re-roll both sixes in the third round. What is the probability that you roll either a small straight (exactly four dice are in a row) or a large straight (exactly five dice are in a row)? Round your answer to three decimal places. Enter your solution into variable `p3.2`.\n",
        "\n",
        "(Note that to be \"in a row\" means that the dice come up with numbers that could be arranged in a row. Examples of exactly 5 numbers in a row are \"1,2,3,4,5\" or  \"2,3,4,5,6\". You may want to look up small and large straights in Yhatzee if you are unfamilar with the game or confused by this terminology)."
      ],
      "metadata": {
        "id": "CvUA5bVxhRn2"
      }
    },
    {
      "cell_type": "code",
      "source": [
        "choose_any_two = choices^2\n",
        "small_straight = c('11', '16', '21', '25', '31', '35', '41', '45', '55')\n",
        "large_straight = c('15')\n",
        "p3.2 = (length(small_straight) + length(large_straight)) * factorial(2) / choose_any_two\n",
        "p3.2 = round(p3.2, digits=3)\n",
        "p3.2"
      ],
      "metadata": {
        "colab": {
          "base_uri": "https://localhost:8080/",
          "height": 34
        },
        "id": "5OxpsP7RhOry",
        "outputId": "0dd0801a-c50e-47d7-dcfd-eae8233a32b5"
      },
      "execution_count": 15,
      "outputs": [
        {
          "output_type": "display_data",
          "data": {
            "text/html": [
              "0.556"
            ],
            "text/markdown": "0.556",
            "text/latex": "0.556",
            "text/plain": [
              "[1] 0.556"
            ]
          },
          "metadata": {}
        }
      ]
    },
    {
      "cell_type": "markdown",
      "source": [
        "**c)** What is the probability of rolling a small straight (exactly four dice in a row) on the first round? Round your answer to have three decimal places. Enter your solution into variable `p3.3`."
      ],
      "metadata": {
        "id": "KEhA7Brej3XR"
      }
    },
    {
      "cell_type": "code",
      "source": [
        "# no repeated numbers, with permutation\n",
        "all_distinct = c('12346', '13456')\n",
        "w_distinct = length(all_distinct) * factorial(dices)\n",
        "repeated_one = c(\n",
        "  '11234', '12234', '12334', '12344',\n",
        "  '23452', '23453', '23454', '23455',\n",
        "  '33456', '34456', '34556', '34566'\n",
        ")\n",
        "# choose 2 dices for repeated number (no permutation), permutate the remaining 3\n",
        "w_repeated = length(repeated_one) * choose(dices, 2) * factorial(3)\n",
        "p3.3 = (w_distinct + w_repeated) / cardinality\n",
        "p3.3 = round(p3.3, digits=3)\n",
        "p3.3"
      ],
      "metadata": {
        "colab": {
          "base_uri": "https://localhost:8080/",
          "height": 34
        },
        "id": "CtAHiS0_jCUy",
        "outputId": "2927e620-ad73-44a5-fa6d-e25c13a25224"
      },
      "execution_count": 18,
      "outputs": [
        {
          "output_type": "display_data",
          "data": {
            "text/html": [
              "0.123"
            ],
            "text/markdown": "0.123",
            "text/latex": "0.123",
            "text/plain": [
              "[1] 0.123"
            ]
          },
          "metadata": {}
        }
      ]
    },
    {
      "cell_type": "markdown",
      "source": [
        "## Problem 4\n",
        "\n",
        "In 2008, $3\\%$ of adults (age 25 or older) in Boulder, CO had a PhD, $45\\%$ had at least a bachelor's degree, and $75\\%$ were employed full-time. Consider randomly selecting an adult from Boulder, CO for an interview. Let $A$ denote the event that the individual has a PhD, let $B$ be the event that the individual has a bachelor's degree, and let $C$ be the event that the individual is employed full-time. Assume that, in order to have a PhD, you must have a bachelor's degree.\n",
        "\n",
        "* $P(A) = 0.03$\n",
        "* $P(B) = 0.45$\n",
        "* $P(C) = 0.75$"
      ],
      "metadata": {
        "id": "QsgAtt9noPwi"
      }
    },
    {
      "cell_type": "code",
      "source": [
        "p_a = 0.03\n",
        "p_b = 0.45\n",
        "p_c = 0.75"
      ],
      "metadata": {
        "id": "XwQwreJjnKE5"
      },
      "execution_count": 19,
      "outputs": []
    },
    {
      "cell_type": "markdown",
      "source": [
        "**a)** Is it possible for $P(A \\cap B) = 0.03$? Enter your answer as a boolean `TRUE` or `FALSE`. Enter your solution into variable `TF_4.1`.\n",
        "\n",
        "$⇒ \\color{green}{\\text{TRUE}}$ - because all people who have a PhD also have a bachelor's degree"
      ],
      "metadata": {
        "id": "MA5BzTP8o2xu"
      }
    },
    {
      "cell_type": "code",
      "source": [
        "TF_4.1 = TRUE"
      ],
      "metadata": {
        "id": "QX1W9ar8o09p"
      },
      "execution_count": 20,
      "outputs": []
    },
    {
      "cell_type": "markdown",
      "source": [
        "**b)** For the remaining questions, let $P(B \\cup C) = 0.75$. Compute the probability that the selected individual has a bachelor’s degree and full-time employ-ment. Round your answer to two decimal points. Enter your solution into variable `p4.2`.\n",
        "\n",
        "$⇒ \\color{green}{P(B \\cap C) = P(B) + P(C) - P(B \\cup C)}$"
      ],
      "metadata": {
        "id": "mmni-JR2paRi"
      }
    },
    {
      "cell_type": "code",
      "source": [
        "p_b_c = 0.75\n",
        "p4.2 = p_b + p_c - p_b_c\n",
        "p4.2 = round(p4.2, digits=2)\n",
        "p4.2"
      ],
      "metadata": {
        "colab": {
          "base_uri": "https://localhost:8080/",
          "height": 34
        },
        "id": "SVI6EQ4cpCsZ",
        "outputId": "ea43ef00-f9f1-4d59-c6dc-4267cc118286"
      },
      "execution_count": 23,
      "outputs": [
        {
          "output_type": "display_data",
          "data": {
            "text/html": [
              "0.45"
            ],
            "text/markdown": "0.45",
            "text/latex": "0.45",
            "text/plain": [
              "[1] 0.45"
            ]
          },
          "metadata": {}
        }
      ]
    },
    {
      "cell_type": "markdown",
      "source": [
        "**c)** What is the probability that the selected individual has a bachelor's degree given that they are employed full-time? Round your answers to two decimal places. Save your solution as variable `p4.3`.\n",
        "\n",
        "$⇒ \\color{green}{P(B|C) = \\frac{P(B \\cap C)}{P(C)}}$"
      ],
      "metadata": {
        "id": "Ykscqe6tqFEn"
      }
    },
    {
      "cell_type": "code",
      "source": [
        "p4.3 = p4.2 / p_c\n",
        "p4.3 = round(p4.3, digits=2)\n",
        "p4.3"
      ],
      "metadata": {
        "colab": {
          "base_uri": "https://localhost:8080/",
          "height": 34
        },
        "id": "Zon0fn3fqC0j",
        "outputId": "072128d8-2081-4f47-8ce5-3d190c25b051"
      },
      "execution_count": 22,
      "outputs": [
        {
          "output_type": "display_data",
          "data": {
            "text/html": [
              "0.6"
            ],
            "text/markdown": "0.6",
            "text/latex": "0.6",
            "text/plain": [
              "[1] 0.6"
            ]
          },
          "metadata": {}
        }
      ]
    }
  ]
}