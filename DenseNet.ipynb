{
 "cells": [
  {
   "cell_type": "code",
   "execution_count": 1,
   "metadata": {},
   "outputs": [],
   "source": [
    "%load_ext autoreload\n",
    "%autoreload 2"
   ]
  },
  {
   "cell_type": "code",
   "execution_count": 2,
   "metadata": {},
   "outputs": [],
   "source": [
    "from config import *\n",
    "from features import *\n",
    "import matplotlib.pyplot as plt\n",
    "import librosa\n",
    "import librosa.display\n",
    "import gc"
   ]
  },
  {
   "cell_type": "code",
   "execution_count": 3,
   "metadata": {},
   "outputs": [],
   "source": [
    "TEST_SIZE = 0.4\n",
    "RANDOM_SEED = 191\n",
    "\n",
    "SAMPLE_RATE = 44100 / 3\n",
    "\n",
    "N_FFT = 2048\n",
    "HOP_LENGTH = 512\n",
    "N_MEL_BINS = 128\n",
    "N_MFCC = 24\n",
    "\n",
    "WINDOW = 'blackmanharris'\n",
    "\n",
    "LEARNING_RATE = 1e-3\n",
    "BATCH_SIZE = 64"
   ]
  },
  {
   "cell_type": "code",
   "execution_count": 4,
   "metadata": {},
   "outputs": [
    {
     "name": "stdout",
     "output_type": "stream",
     "text": [
      "Train: 35 songs\n",
      "Val: 5 songs\n",
      "Test: 5 songs\n"
     ]
    }
   ],
   "source": [
    "from prepare_data import sample_train_test_songs, form_audio_data_array\n",
    "\n",
    "train_songs, val_songs, test_songs = sample_train_test_songs(test_size=TEST_SIZE, random_seed=RANDOM_SEED, include_val=True)\n",
    "print(f'Train: {len(train_songs)} songs')\n",
    "print(f'Val: {len(val_songs)} songs')\n",
    "print(f'Test: {len(test_songs)} songs')"
   ]
  },
  {
   "cell_type": "code",
   "execution_count": 5,
   "metadata": {},
   "outputs": [
    {
     "name": "stdout",
     "output_type": "stream",
     "text": [
      "Jin Suga J-Hope RM Jimin V Jungkook \n",
      "(104, 24, 290) (104,)\n"
     ]
    }
   ],
   "source": [
    "# X_train, Y_train = form_audio_data_array(song_names=train_songs, sample_rate=SAMPLE_RATE, window=WINDOW, n_fft=N_FFT,\n",
    "#                                          hop_length=HOP_LENGTH, n_mel=N_MEL_BINS, n_mfcc=N_MFCC)\n",
    "# X_val, Y_val = form_audio_data_array(song_names=val_songs, sample_rate=SAMPLE_RATE, window=WINDOW, n_fft=N_FFT,\n",
    "#                                      hop_length=HOP_LENGTH, n_mel=N_MEL_BINS, n_mfcc=N_MFCC)\n",
    "# X_test, Y_test = form_audio_data_array(song_names=test_songs, sample_rate=SAMPLE_RATE, window=WINDOW, n_fft=N_FFT,\n",
    "#                                        hop_length=HOP_LENGTH, n_mel=N_MEL_BINS, n_mfcc=N_MFCC)\n",
    "\n",
    "# print(X_train.shape, Y_train.shape)\n",
    "# print(X_val.shape, Y_val.shape)\n",
    "print(X_test.shape, Y_test.shape)"
   ]
  },
  {
   "cell_type": "code",
   "execution_count": 6,
   "metadata": {},
   "outputs": [],
   "source": [
    "# np.save(f'tmp/X_train_{RANDOM_SEED}_{N_MFCC}.npy', X_train)\n",
    "# np.save(f'tmp/Y_train_{RANDOM_SEED}_{N_MFCC}.npy', Y_train)\n",
    "# np.save(f'tmp/X_val_{RANDOM_SEED}_{N_MFCC}.npy', X_val)\n",
    "# np.save(f'tmp/Y_val_{RANDOM_SEED}_{N_MFCC}.npy', Y_val)\n",
    "# np.save(f'tmp/X_test_{RANDOM_SEED}_{N_MFCC}.npy', X_test)\n",
    "# np.save(f'tmp/Y_test_{RANDOM_SEED}_{N_MFCC}.npy', Y_test)"
   ]
  },
  {
   "cell_type": "code",
   "execution_count": 5,
   "metadata": {},
   "outputs": [
    {
     "name": "stdout",
     "output_type": "stream",
     "text": [
      "(971, 24, 290) (971,)\n",
      "(126, 24, 290) (126,)\n",
      "(104, 24, 290) (104,)\n"
     ]
    }
   ],
   "source": [
    "with open(f'tmp/X_train_{RANDOM_SEED}_{N_MFCC}.npy', 'rb') as f:\n",
    "    X_train = np.load(f)\n",
    "with open(f'tmp/Y_train_{RANDOM_SEED}_{N_MFCC}.npy', 'rb') as f:\n",
    "    Y_train = np.load(f)\n",
    "with open(f'tmp/X_val_{RANDOM_SEED}_{N_MFCC}.npy', 'rb') as f:\n",
    "    X_val = np.load(f)\n",
    "with open(f'tmp/Y_val_{RANDOM_SEED}_{N_MFCC}.npy', 'rb') as f:\n",
    "    Y_val = np.load(f)\n",
    "with open(f'tmp/X_test_{RANDOM_SEED}_{N_MFCC}.npy', 'rb') as f:\n",
    "    X_test = np.load(f)\n",
    "with open(f'tmp/Y_test_{RANDOM_SEED}_{N_MFCC}.npy', 'rb') as f:\n",
    "    Y_test = np.load(f)\n",
    "\n",
    "print(X_train.shape, Y_train.shape)\n",
    "print(X_val.shape, Y_val.shape)\n",
    "print(X_test.shape, Y_test.shape)"
   ]
  },
  {
   "cell_type": "code",
   "execution_count": 6,
   "metadata": {},
   "outputs": [],
   "source": [
    "import tensorflow as tf\n",
    "from tensorflow.keras.layers import Flatten, Dense, BatchNormalization, Dropout\n",
    "from tensorflow.keras.regularizers import l2 as L2\n",
    "from tensorflow.keras.optimizers import Adam\n",
    "from tensorflow.keras.callbacks import EarlyStopping"
   ]
  },
  {
   "cell_type": "code",
   "execution_count": 81,
   "metadata": {},
   "outputs": [
    {
     "data": {
      "text/plain": [
       "22521"
      ]
     },
     "execution_count": 81,
     "metadata": {},
     "output_type": "execute_result"
    }
   ],
   "source": [
    "gc.collect()"
   ]
  },
  {
   "cell_type": "code",
   "execution_count": 82,
   "metadata": {},
   "outputs": [],
   "source": [
    "try:\n",
    "    del model\n",
    "except:\n",
    "    pass\n",
    "\n",
    "model = tf.keras.Sequential([\n",
    "    Flatten(input_shape=(X_train.shape[1], X_train.shape[2])),\n",
    "    Dense(units=512, activation='relu'),\n",
    "    Dense(units=256, activation='relu'),\n",
    "#     Dense(units=128, activation='relu'),\n",
    "#     Dense(units=512, activation='relu', kernel_regularizer=L2(l=0.01)),\n",
    "#     Dense(units=256, activation='relu', kernel_regularizer=L2(l=0.01)),\n",
    "#     Dense(units=128, activation='relu', kernel_regularizer=L2(l=0.01)),\n",
    "    Dense(units=7, activation='softmax')\n",
    "])\n",
    "\n",
    "optimiser = Adam(learning_rate=LEARNING_RATE)\n",
    "model.compile(optimizer=optimiser, loss='sparse_categorical_crossentropy', metrics=['accuracy'])"
   ]
  },
  {
   "cell_type": "code",
   "execution_count": 83,
   "metadata": {},
   "outputs": [
    {
     "name": "stdout",
     "output_type": "stream",
     "text": [
      "Train on 971 samples, validate on 126 samples\n",
      "Epoch 1/100\n",
      "971/971 [==============================] - 1s 829us/sample - loss: 482.8912 - accuracy: 0.1390 - val_loss: 153.9160 - val_accuracy: 0.0794\n",
      "Epoch 2/100\n",
      "971/971 [==============================] - 0s 211us/sample - loss: 76.1886 - accuracy: 0.3100 - val_loss: 39.9672 - val_accuracy: 0.2381\n",
      "Epoch 3/100\n",
      "971/971 [==============================] - 0s 207us/sample - loss: 22.0206 - accuracy: 0.4552 - val_loss: 46.2376 - val_accuracy: 0.2302\n",
      "Epoch 4/100\n",
      "971/971 [==============================] - 0s 266us/sample - loss: 11.6988 - accuracy: 0.6159 - val_loss: 17.5798 - val_accuracy: 0.4206\n",
      "Epoch 5/100\n",
      "971/971 [==============================] - 0s 253us/sample - loss: 4.4594 - accuracy: 0.7477 - val_loss: 19.0415 - val_accuracy: 0.3333\n",
      "Epoch 6/100\n",
      "971/971 [==============================] - 0s 339us/sample - loss: 1.9931 - accuracy: 0.8187 - val_loss: 20.6151 - val_accuracy: 0.3095\n",
      "Epoch 7/100\n",
      "971/971 [==============================] - 0s 388us/sample - loss: 2.7292 - accuracy: 0.8239 - val_loss: 19.4204 - val_accuracy: 0.4206\n",
      "Epoch 8/100\n",
      "971/971 [==============================] - 0s 391us/sample - loss: 1.4727 - accuracy: 0.8630 - val_loss: 15.4405 - val_accuracy: 0.3810\n",
      "Epoch 9/100\n",
      "971/971 [==============================] - 0s 336us/sample - loss: 0.7596 - accuracy: 0.9083 - val_loss: 14.8714 - val_accuracy: 0.3889\n",
      "Epoch 10/100\n",
      "971/971 [==============================] - 0s 327us/sample - loss: 1.5870 - accuracy: 0.8764 - val_loss: 18.4383 - val_accuracy: 0.4286\n",
      "Epoch 11/100\n",
      "971/971 [==============================] - 0s 356us/sample - loss: 0.7077 - accuracy: 0.9186 - val_loss: 22.9905 - val_accuracy: 0.4206\n",
      "Epoch 12/100\n",
      "971/971 [==============================] - 0s 393us/sample - loss: 1.3572 - accuracy: 0.8908 - val_loss: 16.0779 - val_accuracy: 0.3968\n",
      "Epoch 13/100\n",
      "971/971 [==============================] - 0s 445us/sample - loss: 1.7630 - accuracy: 0.8754 - val_loss: 16.6111 - val_accuracy: 0.4524\n",
      "Epoch 14/100\n",
      "971/971 [==============================] - 0s 399us/sample - loss: 1.3134 - accuracy: 0.9011 - val_loss: 23.6896 - val_accuracy: 0.2857\n",
      "Epoch 15/100\n",
      "971/971 [==============================] - 0s 388us/sample - loss: 0.9184 - accuracy: 0.9135 - val_loss: 18.8051 - val_accuracy: 0.3889\n",
      "Epoch 16/100\n",
      "971/971 [==============================] - 0s 391us/sample - loss: 0.4378 - accuracy: 0.9547 - val_loss: 17.3437 - val_accuracy: 0.4286\n",
      "Epoch 17/100\n",
      "971/971 [==============================] - 0s 372us/sample - loss: 0.3927 - accuracy: 0.9495 - val_loss: 23.9956 - val_accuracy: 0.3413\n",
      "Epoch 18/100\n",
      "971/971 [==============================] - 0s 368us/sample - loss: 0.1179 - accuracy: 0.9773 - val_loss: 21.2117 - val_accuracy: 0.3730\n",
      "Epoch 19/100\n",
      "971/971 [==============================] - 0s 330us/sample - loss: 0.3015 - accuracy: 0.9701 - val_loss: 23.1912 - val_accuracy: 0.4286\n",
      "Epoch 20/100\n",
      "971/971 [==============================] - 0s 355us/sample - loss: 0.2143 - accuracy: 0.9743 - val_loss: 32.3270 - val_accuracy: 0.2302\n",
      "Epoch 21/100\n",
      "971/971 [==============================] - 0s 370us/sample - loss: 0.4711 - accuracy: 0.9475 - val_loss: 19.7512 - val_accuracy: 0.3810\n",
      "Epoch 22/100\n",
      "971/971 [==============================] - 0s 394us/sample - loss: 0.4273 - accuracy: 0.9578 - val_loss: 19.1504 - val_accuracy: 0.4365\n",
      "Epoch 23/100\n",
      "971/971 [==============================] - 0s 376us/sample - loss: 0.2248 - accuracy: 0.9712 - val_loss: 17.7028 - val_accuracy: 0.4048\n",
      "Epoch 24/100\n",
      "971/971 [==============================] - 0s 392us/sample - loss: 0.0439 - accuracy: 0.9938 - val_loss: 20.3610 - val_accuracy: 0.4127\n",
      "Epoch 25/100\n",
      "971/971 [==============================] - 0s 409us/sample - loss: 0.0456 - accuracy: 0.9949 - val_loss: 15.8126 - val_accuracy: 0.4841\n",
      "Epoch 26/100\n",
      "971/971 [==============================] - 0s 386us/sample - loss: 0.0032 - accuracy: 0.9979 - val_loss: 17.2085 - val_accuracy: 0.4841\n",
      "Epoch 27/100\n",
      "971/971 [==============================] - 0s 347us/sample - loss: 3.3344e-04 - accuracy: 1.0000 - val_loss: 19.5371 - val_accuracy: 0.4444\n",
      "Epoch 28/100\n",
      "971/971 [==============================] - 0s 303us/sample - loss: 1.6504e-04 - accuracy: 1.0000 - val_loss: 19.6540 - val_accuracy: 0.4286\n",
      "Epoch 29/100\n",
      "971/971 [==============================] - 0s 359us/sample - loss: 1.4674e-05 - accuracy: 1.0000 - val_loss: 19.1887 - val_accuracy: 0.4286\n",
      "Epoch 30/100\n",
      "971/971 [==============================] - 0s 398us/sample - loss: 5.8363e-06 - accuracy: 1.0000 - val_loss: 19.0388 - val_accuracy: 0.4365\n",
      "Epoch 31/100\n",
      "971/971 [==============================] - 0s 389us/sample - loss: 4.1029e-06 - accuracy: 1.0000 - val_loss: 18.9807 - val_accuracy: 0.4365\n",
      "Epoch 32/100\n",
      "971/971 [==============================] - 0s 412us/sample - loss: 3.5243e-06 - accuracy: 1.0000 - val_loss: 18.9414 - val_accuracy: 0.4365\n",
      "Epoch 33/100\n",
      "971/971 [==============================] - 0s 369us/sample - loss: 3.0099e-06 - accuracy: 1.0000 - val_loss: 18.9142 - val_accuracy: 0.4365\n",
      "Epoch 34/100\n",
      "971/971 [==============================] - 0s 380us/sample - loss: 2.6494e-06 - accuracy: 1.0000 - val_loss: 18.8699 - val_accuracy: 0.4365\n",
      "Epoch 35/100\n",
      "971/971 [==============================] - 0s 388us/sample - loss: 2.2664e-06 - accuracy: 1.0000 - val_loss: 18.8515 - val_accuracy: 0.4365\n",
      "Epoch 36/100\n",
      "971/971 [==============================] - 0s 387us/sample - loss: 2.0890e-06 - accuracy: 1.0000 - val_loss: 18.8344 - val_accuracy: 0.4365\n",
      "Epoch 37/100\n",
      "971/971 [==============================] - 0s 384us/sample - loss: 1.9497e-06 - accuracy: 1.0000 - val_loss: 18.8135 - val_accuracy: 0.4365\n",
      "Epoch 38/100\n",
      "971/971 [==============================] - 0s 371us/sample - loss: 1.7839e-06 - accuracy: 1.0000 - val_loss: 18.8007 - val_accuracy: 0.4365\n",
      "Epoch 39/100\n",
      "971/971 [==============================] - 0s 322us/sample - loss: 1.6727e-06 - accuracy: 1.0000 - val_loss: 18.7852 - val_accuracy: 0.4365\n",
      "Epoch 40/100\n",
      "971/971 [==============================] - 0s 407us/sample - loss: 1.5720e-06 - accuracy: 1.0000 - val_loss: 18.7708 - val_accuracy: 0.4365\n"
     ]
    }
   ],
   "source": [
    "early_stopping = EarlyStopping(monitor='val_accuracy', mode='max', patience=15, restore_best_weights=True)\n",
    "history = model.fit(X_train, Y_train, validation_data=(X_val, Y_val),\n",
    "                    batch_size=BATCH_SIZE, epochs=100, callbacks=[early_stopping])"
   ]
  },
  {
   "cell_type": "code",
   "execution_count": 84,
   "metadata": {},
   "outputs": [
    {
     "name": "stdout",
     "output_type": "stream",
     "text": [
      "971/971 [==============================] - 0s 266us/sample - loss: 0.0013 - accuracy: 1.0000\n"
     ]
    },
    {
     "data": {
      "text/plain": [
       "[0.0012525666049870634, 1.0]"
      ]
     },
     "execution_count": 84,
     "metadata": {},
     "output_type": "execute_result"
    }
   ],
   "source": [
    "train_results = model.evaluate(X_train, Y_train)\n",
    "train_results"
   ]
  },
  {
   "cell_type": "code",
   "execution_count": 85,
   "metadata": {},
   "outputs": [
    {
     "name": "stdout",
     "output_type": "stream",
     "text": [
      "126/126 [==============================] - 0s 356us/sample - loss: 15.8126 - accuracy: 0.4841\n"
     ]
    },
    {
     "data": {
      "text/plain": [
       "[15.812564849853516, 0.48412699]"
      ]
     },
     "execution_count": 85,
     "metadata": {},
     "output_type": "execute_result"
    }
   ],
   "source": [
    "val_results = model.evaluate(X_val, Y_val)\n",
    "val_results"
   ]
  },
  {
   "cell_type": "code",
   "execution_count": 86,
   "metadata": {},
   "outputs": [
    {
     "name": "stdout",
     "output_type": "stream",
     "text": [
      "104/104 [==============================] - 0s 399us/sample - loss: 23.0622 - accuracy: 0.3654\n"
     ]
    },
    {
     "data": {
      "text/plain": [
       "[23.062242948091946, 0.3653846]"
      ]
     },
     "execution_count": 86,
     "metadata": {},
     "output_type": "execute_result"
    }
   ],
   "source": [
    "test_results = model.evaluate(X_test, Y_test)\n",
    "test_results"
   ]
  },
  {
   "cell_type": "code",
   "execution_count": 90,
   "metadata": {},
   "outputs": [
    {
     "data": {
      "text/plain": [
       "<matplotlib.legend.Legend at 0x1fa92eca408>"
      ]
     },
     "execution_count": 90,
     "metadata": {},
     "output_type": "execute_result"
    },
    {
     "data": {
      "image/png": "[encoded data removed]",
      "text/plain": [
       "<Figure size 1440x504 with 2 Axes>"
      ]
     },
     "metadata": {
      "needs_background": "light"
     },
     "output_type": "display_data"
    }
   ],
   "source": [
    "fig, ax = plt.subplots(1, 2, figsize=(20, 7), constrained_layout=True)\n",
    "\n",
    "ax[0].plot(history.history['loss'], label='Train loss')\n",
    "ax[0].plot(history.history['val_loss'], label='Val loss')\n",
    "ax[1].plot(history.history['accuracy'], label='Train accuracy')\n",
    "ax[1].plot(history.history['val_accuracy'], label='Val accuracy')\n",
    "\n",
    "fig.suptitle(f'DenseNet 2 layers', fontsize=20)\n",
    "ax[0].set_title(f'Loss', fontsize=15)\n",
    "ax[1].set_title(f'Accuracy', fontsize=15)\n",
    "\n",
    "ax[0].legend()\n",
    "ax[1].legend()"
   ]
  },
  {
   "cell_type": "code",
   "execution_count": null,
   "metadata": {},
   "outputs": [],
   "source": []
  }
 ],
 "metadata": {
  "kernelspec": {
   "display_name": "Python 3",
   "language": "python",
   "name": "python3"
  },
  "language_info": {
   "codemirror_mode": {
    "name": "ipython",
    "version": 3
   },
   "file_extension": ".py",
   "mimetype": "text/x-python",
   "name": "python",
   "nbconvert_exporter": "python",
   "pygments_lexer": "ipython3",
   "version": "3.7.7"
  }
 },
 "nbformat": 4,
 "nbformat_minor": 4
}
