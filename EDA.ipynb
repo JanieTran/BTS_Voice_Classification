{
 "cells": [
  {
   "cell_type": "code",
   "execution_count": 6,
   "metadata": {},
   "outputs": [],
   "source": [
    "from pydub import AudioSegment\n",
    "\n",
    "def read_audio_properties(file_path):\n",
    "    audio_file = AudioSegment.from_mp3(file_path)\n",
    "    return audio_file.channels, audio_file.frame_rate, int(audio_file.duration_seconds)"
   ]
  },
  {
   "cell_type": "code",
   "execution_count": 13,
   "metadata": {},
   "outputs": [],
   "source": [
    "import pandas as pd\n",
    "import os\n",
    "from config import *\n",
    "from time import time"
   ]
  },
  {
   "cell_type": "code",
   "execution_count": 16,
   "metadata": {},
   "outputs": [
    {
     "name": "stdout",
     "output_type": "stream",
     "text": [
      "Jin Suga J-Hope RM Jimin V Jungkook "
     ]
    }
   ],
   "source": [
    "audio_properties = pd.DataFrame(columns=['file_name', 'channels', 'frame_rate', 'duration'])\n",
    "\n",
    "start = time()\n",
    "for member, label in MEMBER_TO_LABEL.items():\n",
    "    print(member, end=' ')\n",
    "    folder = f'data/{label}'\n",
    "    file_list = os.listdir(folder)\n",
    "    for file in file_list:\n",
    "        channels, frame_rate, duration = read_audio_properties(f'{folder}/{file}')\n",
    "        audio_properties = audio_properties.append({\n",
    "            'file_name': f'{label}/{file.split(\".\")[0]}',\n",
    "            'channels': channels,\n",
    "            'frame_rate': frame_rate,\n",
    "            'duration': duration\n",
    "        }, ignore_index=True)\n",
    "        \n",
    "print(f'\\nElapsed time: {time() - start:.2f}s')"
   ]
  },
  {
   "cell_type": "code",
   "execution_count": 17,
   "metadata": {},
   "outputs": [
    {
     "data": {
      "text/plain": [
       "2    1.0\n",
       "Name: channels, dtype: float64"
      ]
     },
     "execution_count": 17,
     "metadata": {},
     "output_type": "execute_result"
    }
   ],
   "source": [
    "audio_properties['channels'].value_counts(normalize=True)"
   ]
  },
  {
   "cell_type": "code",
   "execution_count": 18,
   "metadata": {},
   "outputs": [
    {
     "data": {
      "text/plain": [
       "44100    1.0\n",
       "Name: frame_rate, dtype: float64"
      ]
     },
     "execution_count": 18,
     "metadata": {},
     "output_type": "execute_result"
    }
   ],
   "source": [
    "audio_properties['frame_rate'].value_counts(normalize=True)"
   ]
  },
  {
   "cell_type": "code",
   "execution_count": 19,
   "metadata": {},
   "outputs": [
    {
     "data": {
      "text/plain": [
       "5    0.764968\n",
       "3    0.101274\n",
       "4    0.084076\n",
       "2    0.049682\n",
       "Name: duration, dtype: float64"
      ]
     },
     "execution_count": 19,
     "metadata": {},
     "output_type": "execute_result"
    }
   ],
   "source": [
    "audio_properties['duration'].value_counts(normalize=True)"
   ]
  },
  {
   "cell_type": "code",
   "execution_count": null,
   "metadata": {},
   "outputs": [],
   "source": []
  }
 ],
 "metadata": {
  "kernelspec": {
   "display_name": "Python 3",
   "language": "python",
   "name": "python3"
  },
  "language_info": {
   "codemirror_mode": {
    "name": "ipython",
    "version": 3
   },
   "file_extension": ".py",
   "mimetype": "text/x-python",
   "name": "python",
   "nbconvert_exporter": "python",
   "pygments_lexer": "ipython3",
   "version": "3.7.7"
  }
 },
 "nbformat": 4,
 "nbformat_minor": 4
}
